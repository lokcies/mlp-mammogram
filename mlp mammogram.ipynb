{
 "cells": [
  {
   "cell_type": "code",
   "execution_count": 1,
   "metadata": {},
   "outputs": [],
   "source": [
    "import numpy as np\n",
    "import pandas as pd\n",
    "import seaborn as sns\n",
    "import matplotlib.pyplot as plt\n",
    "from sklearn.neural_network import MLPClassifier\n",
    "from sklearn.metrics import confusion_matrix, classification_report\n",
    "from sklearn.preprocessing import StandardScaler\n",
    "from sklearn.preprocessing import MinMaxScaler\n",
    "from sklearn.model_selection import train_test_split\n",
    "%matplotlib inline"
   ]
  },
  {
   "cell_type": "code",
   "execution_count": 23,
   "metadata": {},
   "outputs": [],
   "source": [
    "# Load dataset\n",
    "mammogram = pd.read_csv('mammogram_dataset.csv')"
   ]
  },
  {
   "cell_type": "code",
   "execution_count": 24,
   "metadata": {},
   "outputs": [
    {
     "data": {
      "text/html": [
       "<div>\n",
       "<style scoped>\n",
       "    .dataframe tbody tr th:only-of-type {\n",
       "        vertical-align: middle;\n",
       "    }\n",
       "\n",
       "    .dataframe tbody tr th {\n",
       "        vertical-align: top;\n",
       "    }\n",
       "\n",
       "    .dataframe thead th {\n",
       "        text-align: right;\n",
       "    }\n",
       "</style>\n",
       "<table border=\"1\" class=\"dataframe\">\n",
       "  <thead>\n",
       "    <tr style=\"text-align: right;\">\n",
       "      <th></th>\n",
       "      <th>BI_RADS_assessment</th>\n",
       "      <th>age</th>\n",
       "      <th>shape</th>\n",
       "      <th>margin</th>\n",
       "      <th>density</th>\n",
       "      <th>severity</th>\n",
       "    </tr>\n",
       "  </thead>\n",
       "  <tbody>\n",
       "    <tr>\n",
       "      <th>0</th>\n",
       "      <td>5</td>\n",
       "      <td>67</td>\n",
       "      <td>3</td>\n",
       "      <td>5</td>\n",
       "      <td>3</td>\n",
       "      <td>1</td>\n",
       "    </tr>\n",
       "    <tr>\n",
       "      <th>1</th>\n",
       "      <td>4</td>\n",
       "      <td>43</td>\n",
       "      <td>1</td>\n",
       "      <td>1</td>\n",
       "      <td>-100000</td>\n",
       "      <td>1</td>\n",
       "    </tr>\n",
       "    <tr>\n",
       "      <th>2</th>\n",
       "      <td>5</td>\n",
       "      <td>58</td>\n",
       "      <td>4</td>\n",
       "      <td>5</td>\n",
       "      <td>3</td>\n",
       "      <td>1</td>\n",
       "    </tr>\n",
       "    <tr>\n",
       "      <th>3</th>\n",
       "      <td>4</td>\n",
       "      <td>28</td>\n",
       "      <td>1</td>\n",
       "      <td>1</td>\n",
       "      <td>3</td>\n",
       "      <td>0</td>\n",
       "    </tr>\n",
       "    <tr>\n",
       "      <th>4</th>\n",
       "      <td>5</td>\n",
       "      <td>74</td>\n",
       "      <td>1</td>\n",
       "      <td>5</td>\n",
       "      <td>-100000</td>\n",
       "      <td>1</td>\n",
       "    </tr>\n",
       "    <tr>\n",
       "      <th>5</th>\n",
       "      <td>4</td>\n",
       "      <td>65</td>\n",
       "      <td>1</td>\n",
       "      <td>-100000</td>\n",
       "      <td>3</td>\n",
       "      <td>0</td>\n",
       "    </tr>\n",
       "    <tr>\n",
       "      <th>6</th>\n",
       "      <td>4</td>\n",
       "      <td>70</td>\n",
       "      <td>-100000</td>\n",
       "      <td>-100000</td>\n",
       "      <td>3</td>\n",
       "      <td>0</td>\n",
       "    </tr>\n",
       "    <tr>\n",
       "      <th>7</th>\n",
       "      <td>5</td>\n",
       "      <td>42</td>\n",
       "      <td>1</td>\n",
       "      <td>-100000</td>\n",
       "      <td>3</td>\n",
       "      <td>0</td>\n",
       "    </tr>\n",
       "    <tr>\n",
       "      <th>8</th>\n",
       "      <td>5</td>\n",
       "      <td>57</td>\n",
       "      <td>1</td>\n",
       "      <td>5</td>\n",
       "      <td>3</td>\n",
       "      <td>1</td>\n",
       "    </tr>\n",
       "    <tr>\n",
       "      <th>9</th>\n",
       "      <td>5</td>\n",
       "      <td>60</td>\n",
       "      <td>-100000</td>\n",
       "      <td>5</td>\n",
       "      <td>1</td>\n",
       "      <td>1</td>\n",
       "    </tr>\n",
       "  </tbody>\n",
       "</table>\n",
       "</div>"
      ],
      "text/plain": [
       "   BI_RADS_assessment  age   shape  margin  density  severity\n",
       "0                   5   67       3       5        3         1\n",
       "1                   4   43       1       1  -100000         1\n",
       "2                   5   58       4       5        3         1\n",
       "3                   4   28       1       1        3         0\n",
       "4                   5   74       1       5  -100000         1\n",
       "5                   4   65       1 -100000        3         0\n",
       "6                   4   70 -100000 -100000        3         0\n",
       "7                   5   42       1 -100000        3         0\n",
       "8                   5   57       1       5        3         1\n",
       "9                   5   60 -100000       5        1         1"
      ]
     },
     "execution_count": 24,
     "metadata": {},
     "output_type": "execute_result"
    }
   ],
   "source": [
    "mammogram.head(10)"
   ]
  },
  {
   "cell_type": "code",
   "execution_count": 305,
   "metadata": {},
   "outputs": [
    {
     "name": "stdout",
     "output_type": "stream",
     "text": [
      "BI_RADS_assessment     2\n",
      "age                    5\n",
      "shape                 31\n",
      "margin                48\n",
      "density               76\n",
      "severity               0\n",
      "dtype: int64\n"
     ]
    }
   ],
   "source": [
    "# Handling missing values\n",
    "# In this dataset, missing values can be observed as -100000\n",
    "# Since our program can't really detect -100000 as a missing value as it might be read as a normal value, we are marking them\n",
    "# with 'NaN' value using numpy.replace\n",
    "mammogram[['BI_RADS_assessment', 'age', 'shape', 'margin', 'density', 'severity']] = \\\n",
    "    mammogram[['BI_RADS_assessment', 'age', 'shape', 'margin', 'density', 'severity']].replace(-100000, np.nan)\n",
    "# Hence, we now are able to check how many missing values are there for each attribute\n",
    "print(mammogram.isnull().sum())"
   ]
  },
  {
   "cell_type": "code",
   "execution_count": 26,
   "metadata": {},
   "outputs": [
    {
     "data": {
      "text/html": [
       "<div>\n",
       "<style scoped>\n",
       "    .dataframe tbody tr th:only-of-type {\n",
       "        vertical-align: middle;\n",
       "    }\n",
       "\n",
       "    .dataframe tbody tr th {\n",
       "        vertical-align: top;\n",
       "    }\n",
       "\n",
       "    .dataframe thead th {\n",
       "        text-align: right;\n",
       "    }\n",
       "</style>\n",
       "<table border=\"1\" class=\"dataframe\">\n",
       "  <thead>\n",
       "    <tr style=\"text-align: right;\">\n",
       "      <th></th>\n",
       "      <th>BI_RADS_assessment</th>\n",
       "      <th>age</th>\n",
       "      <th>shape</th>\n",
       "      <th>margin</th>\n",
       "      <th>density</th>\n",
       "      <th>severity</th>\n",
       "    </tr>\n",
       "  </thead>\n",
       "  <tbody>\n",
       "    <tr>\n",
       "      <th>0</th>\n",
       "      <td>5.0</td>\n",
       "      <td>67.0</td>\n",
       "      <td>3.0</td>\n",
       "      <td>5.0</td>\n",
       "      <td>3.0</td>\n",
       "      <td>1</td>\n",
       "    </tr>\n",
       "    <tr>\n",
       "      <th>1</th>\n",
       "      <td>4.0</td>\n",
       "      <td>43.0</td>\n",
       "      <td>1.0</td>\n",
       "      <td>1.0</td>\n",
       "      <td>NaN</td>\n",
       "      <td>1</td>\n",
       "    </tr>\n",
       "    <tr>\n",
       "      <th>2</th>\n",
       "      <td>5.0</td>\n",
       "      <td>58.0</td>\n",
       "      <td>4.0</td>\n",
       "      <td>5.0</td>\n",
       "      <td>3.0</td>\n",
       "      <td>1</td>\n",
       "    </tr>\n",
       "    <tr>\n",
       "      <th>3</th>\n",
       "      <td>4.0</td>\n",
       "      <td>28.0</td>\n",
       "      <td>1.0</td>\n",
       "      <td>1.0</td>\n",
       "      <td>3.0</td>\n",
       "      <td>0</td>\n",
       "    </tr>\n",
       "    <tr>\n",
       "      <th>4</th>\n",
       "      <td>5.0</td>\n",
       "      <td>74.0</td>\n",
       "      <td>1.0</td>\n",
       "      <td>5.0</td>\n",
       "      <td>NaN</td>\n",
       "      <td>1</td>\n",
       "    </tr>\n",
       "    <tr>\n",
       "      <th>5</th>\n",
       "      <td>4.0</td>\n",
       "      <td>65.0</td>\n",
       "      <td>1.0</td>\n",
       "      <td>NaN</td>\n",
       "      <td>3.0</td>\n",
       "      <td>0</td>\n",
       "    </tr>\n",
       "    <tr>\n",
       "      <th>6</th>\n",
       "      <td>4.0</td>\n",
       "      <td>70.0</td>\n",
       "      <td>NaN</td>\n",
       "      <td>NaN</td>\n",
       "      <td>3.0</td>\n",
       "      <td>0</td>\n",
       "    </tr>\n",
       "    <tr>\n",
       "      <th>7</th>\n",
       "      <td>5.0</td>\n",
       "      <td>42.0</td>\n",
       "      <td>1.0</td>\n",
       "      <td>NaN</td>\n",
       "      <td>3.0</td>\n",
       "      <td>0</td>\n",
       "    </tr>\n",
       "    <tr>\n",
       "      <th>8</th>\n",
       "      <td>5.0</td>\n",
       "      <td>57.0</td>\n",
       "      <td>1.0</td>\n",
       "      <td>5.0</td>\n",
       "      <td>3.0</td>\n",
       "      <td>1</td>\n",
       "    </tr>\n",
       "    <tr>\n",
       "      <th>9</th>\n",
       "      <td>5.0</td>\n",
       "      <td>60.0</td>\n",
       "      <td>NaN</td>\n",
       "      <td>5.0</td>\n",
       "      <td>1.0</td>\n",
       "      <td>1</td>\n",
       "    </tr>\n",
       "  </tbody>\n",
       "</table>\n",
       "</div>"
      ],
      "text/plain": [
       "   BI_RADS_assessment   age  shape  margin  density  severity\n",
       "0                 5.0  67.0    3.0     5.0      3.0         1\n",
       "1                 4.0  43.0    1.0     1.0      NaN         1\n",
       "2                 5.0  58.0    4.0     5.0      3.0         1\n",
       "3                 4.0  28.0    1.0     1.0      3.0         0\n",
       "4                 5.0  74.0    1.0     5.0      NaN         1\n",
       "5                 4.0  65.0    1.0     NaN      3.0         0\n",
       "6                 4.0  70.0    NaN     NaN      3.0         0\n",
       "7                 5.0  42.0    1.0     NaN      3.0         0\n",
       "8                 5.0  57.0    1.0     5.0      3.0         1\n",
       "9                 5.0  60.0    NaN     5.0      1.0         1"
      ]
     },
     "execution_count": 26,
     "metadata": {},
     "output_type": "execute_result"
    }
   ],
   "source": [
    "# Observe dataset\n",
    "mammogram.head(10)"
   ]
  },
  {
   "cell_type": "code",
   "execution_count": 7,
   "metadata": {},
   "outputs": [
    {
     "name": "stdout",
     "output_type": "stream",
     "text": [
      "BI_RADS_assessment    0\n",
      "age                   0\n",
      "shape                 0\n",
      "margin                0\n",
      "density               0\n",
      "severity              0\n",
      "dtype: int64\n"
     ]
    },
    {
     "data": {
      "text/html": [
       "<div>\n",
       "<style scoped>\n",
       "    .dataframe tbody tr th:only-of-type {\n",
       "        vertical-align: middle;\n",
       "    }\n",
       "\n",
       "    .dataframe tbody tr th {\n",
       "        vertical-align: top;\n",
       "    }\n",
       "\n",
       "    .dataframe thead th {\n",
       "        text-align: right;\n",
       "    }\n",
       "</style>\n",
       "<table border=\"1\" class=\"dataframe\">\n",
       "  <thead>\n",
       "    <tr style=\"text-align: right;\">\n",
       "      <th></th>\n",
       "      <th>BI_RADS_assessment</th>\n",
       "      <th>age</th>\n",
       "      <th>shape</th>\n",
       "      <th>margin</th>\n",
       "      <th>density</th>\n",
       "      <th>severity</th>\n",
       "    </tr>\n",
       "  </thead>\n",
       "  <tbody>\n",
       "    <tr>\n",
       "      <th>0</th>\n",
       "      <td>5.0</td>\n",
       "      <td>67.0</td>\n",
       "      <td>3.000000</td>\n",
       "      <td>5.000000</td>\n",
       "      <td>3.000000</td>\n",
       "      <td>1</td>\n",
       "    </tr>\n",
       "    <tr>\n",
       "      <th>1</th>\n",
       "      <td>4.0</td>\n",
       "      <td>43.0</td>\n",
       "      <td>1.000000</td>\n",
       "      <td>1.000000</td>\n",
       "      <td>2.910734</td>\n",
       "      <td>1</td>\n",
       "    </tr>\n",
       "    <tr>\n",
       "      <th>2</th>\n",
       "      <td>5.0</td>\n",
       "      <td>58.0</td>\n",
       "      <td>4.000000</td>\n",
       "      <td>5.000000</td>\n",
       "      <td>3.000000</td>\n",
       "      <td>1</td>\n",
       "    </tr>\n",
       "    <tr>\n",
       "      <th>3</th>\n",
       "      <td>4.0</td>\n",
       "      <td>28.0</td>\n",
       "      <td>1.000000</td>\n",
       "      <td>1.000000</td>\n",
       "      <td>3.000000</td>\n",
       "      <td>0</td>\n",
       "    </tr>\n",
       "    <tr>\n",
       "      <th>4</th>\n",
       "      <td>5.0</td>\n",
       "      <td>74.0</td>\n",
       "      <td>1.000000</td>\n",
       "      <td>5.000000</td>\n",
       "      <td>2.910734</td>\n",
       "      <td>1</td>\n",
       "    </tr>\n",
       "    <tr>\n",
       "      <th>5</th>\n",
       "      <td>4.0</td>\n",
       "      <td>65.0</td>\n",
       "      <td>1.000000</td>\n",
       "      <td>2.796276</td>\n",
       "      <td>3.000000</td>\n",
       "      <td>0</td>\n",
       "    </tr>\n",
       "    <tr>\n",
       "      <th>6</th>\n",
       "      <td>4.0</td>\n",
       "      <td>70.0</td>\n",
       "      <td>2.721505</td>\n",
       "      <td>2.796276</td>\n",
       "      <td>3.000000</td>\n",
       "      <td>0</td>\n",
       "    </tr>\n",
       "    <tr>\n",
       "      <th>7</th>\n",
       "      <td>5.0</td>\n",
       "      <td>42.0</td>\n",
       "      <td>1.000000</td>\n",
       "      <td>2.796276</td>\n",
       "      <td>3.000000</td>\n",
       "      <td>0</td>\n",
       "    </tr>\n",
       "    <tr>\n",
       "      <th>8</th>\n",
       "      <td>5.0</td>\n",
       "      <td>57.0</td>\n",
       "      <td>1.000000</td>\n",
       "      <td>5.000000</td>\n",
       "      <td>3.000000</td>\n",
       "      <td>1</td>\n",
       "    </tr>\n",
       "    <tr>\n",
       "      <th>9</th>\n",
       "      <td>5.0</td>\n",
       "      <td>60.0</td>\n",
       "      <td>2.721505</td>\n",
       "      <td>5.000000</td>\n",
       "      <td>1.000000</td>\n",
       "      <td>1</td>\n",
       "    </tr>\n",
       "  </tbody>\n",
       "</table>\n",
       "</div>"
      ],
      "text/plain": [
       "   BI_RADS_assessment   age     shape    margin   density  severity\n",
       "0                 5.0  67.0  3.000000  5.000000  3.000000         1\n",
       "1                 4.0  43.0  1.000000  1.000000  2.910734         1\n",
       "2                 5.0  58.0  4.000000  5.000000  3.000000         1\n",
       "3                 4.0  28.0  1.000000  1.000000  3.000000         0\n",
       "4                 5.0  74.0  1.000000  5.000000  2.910734         1\n",
       "5                 4.0  65.0  1.000000  2.796276  3.000000         0\n",
       "6                 4.0  70.0  2.721505  2.796276  3.000000         0\n",
       "7                 5.0  42.0  1.000000  2.796276  3.000000         0\n",
       "8                 5.0  57.0  1.000000  5.000000  3.000000         1\n",
       "9                 5.0  60.0  2.721505  5.000000  1.000000         1"
      ]
     },
     "execution_count": 7,
     "metadata": {},
     "output_type": "execute_result"
    }
   ],
   "source": [
    "# Our program should now be able to replace those missing values, in this case we are\n",
    "# replacing it with mean values for each column/attribute\n",
    "mammogram.fillna(mammogram.mean(), inplace=True)\n",
    "# Check missing values again just to be sure\n",
    "print(mammogram.isnull().sum())\n",
    "# Observe dataset\n",
    "mammogram.head(10)\n",
    "#print(mammogram.shape)"
   ]
  },
  {
   "cell_type": "code",
   "execution_count": 27,
   "metadata": {},
   "outputs": [
    {
     "data": {
      "text/plain": [
       "0    516\n",
       "1    445\n",
       "Name: severity, dtype: int64"
      ]
     },
     "execution_count": 27,
     "metadata": {},
     "output_type": "execute_result"
    }
   ],
   "source": [
    "# Dalam semua data tu, kita check berapa banyak instances bagi setiap class\n",
    "# How many instances are there for each class?\n",
    "# 0-Benign, 2-Malignant\n",
    "mammogram['severity'].value_counts()"
   ]
  },
  {
   "cell_type": "code",
   "execution_count": 28,
   "metadata": {},
   "outputs": [
    {
     "name": "stderr",
     "output_type": "stream",
     "text": [
      "D:\\Programs\\anaconda3\\lib\\site-packages\\seaborn\\_decorators.py:36: FutureWarning: Pass the following variable as a keyword arg: x. From version 0.12, the only valid positional argument will be `data`, and passing other arguments without an explicit keyword will result in an error or misinterpretation.\n",
      "  warnings.warn(\n"
     ]
    },
    {
     "data": {
      "text/plain": [
       "<AxesSubplot:xlabel='severity', ylabel='count'>"
      ]
     },
     "execution_count": 28,
     "metadata": {},
     "output_type": "execute_result"
    },
    {
     "data": {
      "image/png": "[encoded data removed]",
      "text/plain": [
       "<Figure size 432x288 with 1 Axes>"
      ]
     },
     "metadata": {
      "needs_background": "light"
     },
     "output_type": "display_data"
    }
   ],
   "source": [
    "# Graph plot\n",
    "sns.countplot(mammogram['severity'])"
   ]
  },
  {
   "cell_type": "code",
   "execution_count": 10,
   "metadata": {},
   "outputs": [],
   "source": [
    "# Setting features variable and target variable\n",
    "# X -> features that we are working with\n",
    "# y -> target, in this case is severity\n",
    "X = mammogram.drop('severity', axis=1)\n",
    "y = mammogram['severity']"
   ]
  },
  {
   "cell_type": "code",
   "execution_count": 17,
   "metadata": {},
   "outputs": [
    {
     "name": "stdout",
     "output_type": "stream",
     "text": [
      "(634, 5) (634,)\n",
      "(327, 5) (327,)\n"
     ]
    },
    {
     "data": {
      "text/plain": [
       "0    182\n",
       "1    145\n",
       "Name: severity, dtype: int64"
      ]
     },
     "execution_count": 17,
     "metadata": {},
     "output_type": "execute_result"
    }
   ],
   "source": [
    "# Splitting the dataset into training and testing set\n",
    "# Ratio 66% / 33%\n",
    "X_train, X_test, y_train, y_test = train_test_split(X, y, train_size=0.66)\n",
    "# Observe how many instances for each variable\n",
    "print(X_train.shape, y_train.shape)\n",
    "print(X_test.shape, y_test.shape)"
   ]
  },
  {
   "cell_type": "code",
   "execution_count": 306,
   "metadata": {},
   "outputs": [
    {
     "data": {
      "text/plain": [
       "0    182\n",
       "1    145\n",
       "Name: severity, dtype: int64"
      ]
     },
     "execution_count": 306,
     "metadata": {},
     "output_type": "execute_result"
    }
   ],
   "source": [
    "# In testing set, observe number of instances for each class\n",
    "y_test.value_counts()"
   ]
  },
  {
   "cell_type": "code",
   "execution_count": 16,
   "metadata": {},
   "outputs": [
    {
     "name": "stderr",
     "output_type": "stream",
     "text": [
      "D:\\Programs\\anaconda3\\lib\\site-packages\\seaborn\\_decorators.py:36: FutureWarning: Pass the following variable as a keyword arg: x. From version 0.12, the only valid positional argument will be `data`, and passing other arguments without an explicit keyword will result in an error or misinterpretation.\n",
      "  warnings.warn(\n"
     ]
    },
    {
     "data": {
      "text/plain": [
       "<AxesSubplot:xlabel='severity', ylabel='count'>"
      ]
     },
     "execution_count": 16,
     "metadata": {},
     "output_type": "execute_result"
    },
    {
     "data": {
      "image/png": "[encoded data removed]",
      "text/plain": [
       "<Figure size 432x288 with 1 Axes>"
      ]
     },
     "metadata": {
      "needs_background": "light"
     },
     "output_type": "display_data"
    }
   ],
   "source": [
    "# Graph plot\n",
    "sns.countplot(y_test)"
   ]
  },
  {
   "cell_type": "code",
   "execution_count": 43,
   "metadata": {},
   "outputs": [
    {
     "data": {
      "text/html": [
       "<div>\n",
       "<style scoped>\n",
       "    .dataframe tbody tr th:only-of-type {\n",
       "        vertical-align: middle;\n",
       "    }\n",
       "\n",
       "    .dataframe tbody tr th {\n",
       "        vertical-align: top;\n",
       "    }\n",
       "\n",
       "    .dataframe thead th {\n",
       "        text-align: right;\n",
       "    }\n",
       "</style>\n",
       "<table border=\"1\" class=\"dataframe\">\n",
       "  <thead>\n",
       "    <tr style=\"text-align: right;\">\n",
       "      <th></th>\n",
       "      <th>BI_RADS_assessment</th>\n",
       "      <th>age</th>\n",
       "      <th>shape</th>\n",
       "      <th>margin</th>\n",
       "      <th>density</th>\n",
       "    </tr>\n",
       "  </thead>\n",
       "  <tbody>\n",
       "    <tr>\n",
       "      <th>876</th>\n",
       "      <td>4.0</td>\n",
       "      <td>41.0</td>\n",
       "      <td>3.0</td>\n",
       "      <td>1.000000</td>\n",
       "      <td>3.000000</td>\n",
       "    </tr>\n",
       "    <tr>\n",
       "      <th>275</th>\n",
       "      <td>5.0</td>\n",
       "      <td>71.0</td>\n",
       "      <td>3.0</td>\n",
       "      <td>1.000000</td>\n",
       "      <td>3.000000</td>\n",
       "    </tr>\n",
       "    <tr>\n",
       "      <th>750</th>\n",
       "      <td>4.0</td>\n",
       "      <td>64.0</td>\n",
       "      <td>1.0</td>\n",
       "      <td>1.000000</td>\n",
       "      <td>3.000000</td>\n",
       "    </tr>\n",
       "    <tr>\n",
       "      <th>711</th>\n",
       "      <td>4.0</td>\n",
       "      <td>19.0</td>\n",
       "      <td>1.0</td>\n",
       "      <td>1.000000</td>\n",
       "      <td>3.000000</td>\n",
       "    </tr>\n",
       "    <tr>\n",
       "      <th>507</th>\n",
       "      <td>5.0</td>\n",
       "      <td>49.0</td>\n",
       "      <td>4.0</td>\n",
       "      <td>4.000000</td>\n",
       "      <td>3.000000</td>\n",
       "    </tr>\n",
       "    <tr>\n",
       "      <th>240</th>\n",
       "      <td>5.0</td>\n",
       "      <td>72.0</td>\n",
       "      <td>4.0</td>\n",
       "      <td>4.000000</td>\n",
       "      <td>3.000000</td>\n",
       "    </tr>\n",
       "    <tr>\n",
       "      <th>738</th>\n",
       "      <td>4.0</td>\n",
       "      <td>53.0</td>\n",
       "      <td>4.0</td>\n",
       "      <td>4.000000</td>\n",
       "      <td>3.000000</td>\n",
       "    </tr>\n",
       "    <tr>\n",
       "      <th>262</th>\n",
       "      <td>4.0</td>\n",
       "      <td>40.0</td>\n",
       "      <td>2.0</td>\n",
       "      <td>1.000000</td>\n",
       "      <td>2.910734</td>\n",
       "    </tr>\n",
       "    <tr>\n",
       "      <th>100</th>\n",
       "      <td>5.0</td>\n",
       "      <td>59.0</td>\n",
       "      <td>2.0</td>\n",
       "      <td>2.796276</td>\n",
       "      <td>2.910734</td>\n",
       "    </tr>\n",
       "    <tr>\n",
       "      <th>847</th>\n",
       "      <td>4.0</td>\n",
       "      <td>19.0</td>\n",
       "      <td>3.0</td>\n",
       "      <td>1.000000</td>\n",
       "      <td>3.000000</td>\n",
       "    </tr>\n",
       "  </tbody>\n",
       "</table>\n",
       "</div>"
      ],
      "text/plain": [
       "     BI_RADS_assessment   age  shape    margin   density\n",
       "876                 4.0  41.0    3.0  1.000000  3.000000\n",
       "275                 5.0  71.0    3.0  1.000000  3.000000\n",
       "750                 4.0  64.0    1.0  1.000000  3.000000\n",
       "711                 4.0  19.0    1.0  1.000000  3.000000\n",
       "507                 5.0  49.0    4.0  4.000000  3.000000\n",
       "240                 5.0  72.0    4.0  4.000000  3.000000\n",
       "738                 4.0  53.0    4.0  4.000000  3.000000\n",
       "262                 4.0  40.0    2.0  1.000000  2.910734\n",
       "100                 5.0  59.0    2.0  2.796276  2.910734\n",
       "847                 4.0  19.0    3.0  1.000000  3.000000"
      ]
     },
     "execution_count": 43,
     "metadata": {},
     "output_type": "execute_result"
    }
   ],
   "source": [
    "# Observe 10 samples of training set\n",
    "X_train[:10]"
   ]
  },
  {
   "cell_type": "code",
   "execution_count": 29,
   "metadata": {},
   "outputs": [
    {
     "data": {
      "text/plain": [
       "array([[0.66666667, 0.28205128, 0.66666667, 0.75      , 0.66666667],\n",
       "       [0.72471324, 0.43589744, 1.        , 0.75      , 0.66666667],\n",
       "       [0.66666667, 0.66666667, 1.        , 0.25      , 0.33333333],\n",
       "       [0.5       , 0.28205128, 0.33333333, 0.449069  , 0.66666667],\n",
       "       [0.66666667, 0.06410256, 0.        , 0.        , 0.66666667],\n",
       "       [0.66666667, 0.48717949, 1.        , 0.75      , 0.66666667],\n",
       "       [0.66666667, 0.30769231, 0.33333333, 0.        , 0.66666667],\n",
       "       [0.66666667, 0.33333333, 1.        , 0.75      , 0.66666667],\n",
       "       [0.66666667, 0.78205128, 0.        , 0.        , 0.33333333],\n",
       "       [0.5       , 0.26923077, 0.        , 0.        , 0.66666667]])"
      ]
     },
     "execution_count": 29,
     "metadata": {},
     "output_type": "execute_result"
    }
   ],
   "source": [
    "# Data Normalization using Min-Max normalization\n",
    "# Why do we perform normalization after splitting the data?\n",
    "# -> To avoid data leakage, which means that the created model learns something other than the training set.\n",
    "# -> This allows the model to learn something it would not learn, and in turn invalidate the accuracy and performance of the model\n",
    "# Can also be said as: \n",
    "# -> The test set is supposed to be a fresh unseen data, and should not be modified at the training stage;\n",
    "# -> Doing so would cause potential bias in evaluating the performance\n",
    "normalization = MinMaxScaler()\n",
    "X_train = normalization.fit_transform(X_train)\n",
    "X_test = normalization.transform(X_test)\n",
    "\n",
    "# View first 10 instances of normalized data\n",
    "X_train[:10]"
   ]
  },
  {
   "cell_type": "code",
   "execution_count": 562,
   "metadata": {},
   "outputs": [
    {
     "name": "stdout",
     "output_type": "stream",
     "text": [
      "Iteration 1, loss = 0.68910519\n",
      "Iteration 2, loss = 0.67978038\n",
      "Iteration 3, loss = 0.65884139\n",
      "Iteration 4, loss = 0.63114742\n",
      "Iteration 5, loss = 0.59458076\n",
      "Iteration 6, loss = 0.54887831\n",
      "Iteration 7, loss = 0.51547529\n",
      "Iteration 8, loss = 0.50314005\n",
      "Iteration 9, loss = 0.49601991\n",
      "Iteration 10, loss = 0.50164988\n",
      "Iteration 11, loss = 0.49961226\n",
      "Iteration 12, loss = 0.49895719\n",
      "Iteration 13, loss = 0.48164452\n",
      "Iteration 14, loss = 0.47887126\n",
      "Iteration 15, loss = 0.47805585\n",
      "Iteration 16, loss = 0.46808534\n",
      "Iteration 17, loss = 0.46141974\n",
      "Iteration 18, loss = 0.45699497\n",
      "Iteration 19, loss = 0.45592820\n",
      "Iteration 20, loss = 0.45099469\n",
      "Iteration 21, loss = 0.44720858\n",
      "Iteration 22, loss = 0.44873445\n",
      "Iteration 23, loss = 0.44874369\n",
      "Iteration 24, loss = 0.44095028\n",
      "Iteration 25, loss = 0.43869313\n",
      "Iteration 26, loss = 0.44153397\n",
      "Iteration 27, loss = 0.43434156\n",
      "Iteration 28, loss = 0.43565794\n",
      "Iteration 29, loss = 0.44005496\n",
      "Iteration 30, loss = 0.43224123\n",
      "Iteration 31, loss = 0.45636934\n",
      "Iteration 32, loss = 0.45190977\n",
      "Iteration 33, loss = 0.43167541\n",
      "Iteration 34, loss = 0.43728678\n",
      "Iteration 35, loss = 0.44423881\n",
      "Iteration 36, loss = 0.43104463\n",
      "Iteration 37, loss = 0.43513283\n",
      "Iteration 38, loss = 0.43198596\n",
      "Iteration 39, loss = 0.44369035\n",
      "Iteration 40, loss = 0.42783991\n",
      "Iteration 41, loss = 0.42968670\n",
      "Iteration 42, loss = 0.44842393\n",
      "Iteration 43, loss = 0.42737877\n",
      "Iteration 44, loss = 0.42664547\n",
      "Iteration 45, loss = 0.44516176\n",
      "Iteration 46, loss = 0.42980092\n",
      "Iteration 47, loss = 0.42810191\n",
      "Iteration 48, loss = 0.42603565\n",
      "Iteration 49, loss = 0.42668993\n",
      "Iteration 50, loss = 0.42805057\n",
      "Iteration 51, loss = 0.43710954\n",
      "Iteration 52, loss = 0.44362207\n",
      "Iteration 53, loss = 0.42800505\n",
      "Iteration 54, loss = 0.42772973\n",
      "Iteration 55, loss = 0.42297392\n",
      "Iteration 56, loss = 0.42424829\n",
      "Iteration 57, loss = 0.46394916\n",
      "Iteration 58, loss = 0.42898061\n",
      "Iteration 59, loss = 0.42250822\n",
      "Iteration 60, loss = 0.42615261\n",
      "Iteration 61, loss = 0.42323735\n",
      "Iteration 62, loss = 0.42163873\n",
      "Iteration 63, loss = 0.42357030\n",
      "Iteration 64, loss = 0.42262938\n",
      "Iteration 65, loss = 0.42468202\n",
      "Iteration 66, loss = 0.45820821\n",
      "Iteration 67, loss = 0.42453761\n",
      "Iteration 68, loss = 0.42782876\n",
      "Iteration 69, loss = 0.42222408\n",
      "Iteration 70, loss = 0.42219828\n",
      "Iteration 71, loss = 0.42230273\n",
      "Iteration 72, loss = 0.44364756\n",
      "Iteration 73, loss = 0.43931858\n",
      "Training loss did not improve more than tol=0.000100 for 10 consecutive epochs. Stopping.\n"
     ]
    }
   ],
   "source": [
    "# Neural Network\n",
    "# 1st case\n",
    "#mlp = MLPClassifier(hidden_layer_sizes=[4], activation='logistic', learning_rate='constant', learning_rate_init=0.8, max_iter=30, solver='sgd', verbose=False, random_state=1)\n",
    "# 2nd case\n",
    "# mlp = MLPClassifier(hidden_layer_sizes=[4], activation='logistic', learning_rate='constant', learning_rate_init=0.8, max_iter=50, solver='sgd', verbose=False, random_state=1)\n",
    "# 3rd case\n",
    "mlp = MLPClassifier(hidden_layer_sizes=[4], activation='logistic', learning_rate='constant', learning_rate_init=0.50, max_iter=100, \\\n",
    "                    solver='sgd',verbose=True, random_state=1, momentum=0.92)\n",
    "# 2nd case w/ momentum\n",
    "# mlp = MLPClassifier(hidden_layer_sizes=4, activation='logistic', learning_rate='constant', learning_rate_init=0.02, max_iter=1000, verbose=False, solver='sgd', momentum=0.25)\n",
    "# 3rd case w/ adaptive learning rate\n",
    "# mlp = MLPClassifier(hidden_layer_sizes=5, activation='logistic', learning_rate='adaptive', learning_rate_init=0.02, max_iter=1000)\n",
    "\n",
    "mlp.fit(X_train, y_train)\n",
    "predict_mlp = mlp.predict(X_test)"
   ]
  },
  {
   "cell_type": "code",
   "execution_count": 563,
   "metadata": {},
   "outputs": [
    {
     "name": "stdout",
     "output_type": "stream",
     "text": [
      "\n",
      "Mean Squared Error (MSE):  0.13761467889908258 \n",
      "\n",
      "[[154  28]\n",
      " [ 17 128]]\n"
     ]
    }
   ],
   "source": [
    "# Tengok mse, accuracy & confusion matrix of model \n",
    "# Using sklearn classification_report and confusion_matrix\n",
    "from sklearn.metrics import mean_squared_error\n",
    "from sklearn.metrics import plot_confusion_matrix\n",
    "mse = mean_squared_error(y_test, predict_mlp, squared=True)\n",
    "\n",
    "print(\"\\nMean Squared Error (MSE): \", mse, \"\\n\")\n",
    "#print(\"\\t===================================================\")\n",
    "#print(classification_report(y_test, predict_mlp))\n",
    "#print(\"\\t===================================================\")\n",
    "print(confusion_matrix(y_test, predict_mlp))"
   ]
  },
  {
   "cell_type": "code",
   "execution_count": 564,
   "metadata": {},
   "outputs": [
    {
     "name": "stdout",
     "output_type": "stream",
     "text": [
      "<sklearn.metrics._plot.confusion_matrix.ConfusionMatrixDisplay object at 0x0000012FDD15E0A0>\n"
     ]
    },
    {
     "data": {
      "image/png": "[encoded data removed]",
      "text/plain": [
       "<Figure size 432x288 with 2 Axes>"
      ]
     },
     "metadata": {
      "needs_background": "light"
     },
     "output_type": "display_data"
    }
   ],
   "source": [
    "print(plot_confusion_matrix(mlp, X_test, y_test))"
   ]
  },
  {
   "cell_type": "code",
   "execution_count": 565,
   "metadata": {},
   "outputs": [
    {
     "name": "stdout",
     "output_type": "stream",
     "text": [
      "Model accuracy:  0.8623853211009175 ->  86.24  %\n"
     ]
    }
   ],
   "source": [
    "from sklearn.metrics import accuracy_score\n",
    "accuracy = accuracy_score(y_test, predict_mlp)\n",
    "print(\"Model accuracy: \", accuracy, \"-> \", round(accuracy*100, 2), \" %\")"
   ]
  },
  {
   "cell_type": "code",
   "execution_count": 323,
   "metadata": {},
   "outputs": [
    {
     "name": "stdout",
     "output_type": "stream",
     "text": [
      "0.5\n"
     ]
    }
   ],
   "source": []
  },
  {
   "cell_type": "code",
   "execution_count": null,
   "metadata": {},
   "outputs": [],
   "source": []
  }
 ],
 "metadata": {
  "kernelspec": {
   "display_name": "Python 3",
   "language": "python",
   "name": "python3"
  },
  "language_info": {
   "codemirror_mode": {
    "name": "ipython",
    "version": 3
   },
   "file_extension": ".py",
   "mimetype": "text/x-python",
   "name": "python",
   "nbconvert_exporter": "python",
   "pygments_lexer": "ipython3",
   "version": "3.8.5"
  }
 },
 "nbformat": 4,
 "nbformat_minor": 4
}
